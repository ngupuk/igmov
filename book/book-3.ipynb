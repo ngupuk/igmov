{
 "cells": [
  {
   "cell_type": "code",
   "execution_count": null,
   "metadata": {},
   "outputs": [],
   "source": [
    "from moviepy.editor import *\n",
    "from moviepy.video.io.bindings import mplfig_to_npimage\n",
    "import numpy as np\n",
    "import matplotlib.pyplot as plt\n",
    "import librosa\n",
    "from librosa.display import waveplot"
   ]
  },
  {
   "cell_type": "code",
   "execution_count": null,
   "metadata": {},
   "outputs": [],
   "source": [
    "audio = AudioFileClip('../sample/sample.ogg')\n",
    "y, sr = librosa.load('../sample/sample.ogg')\n",
    "fig, ax = plt.subplots(1)\n",
    "waveplot(y, sr=sr, color='b', alpha=.25)\n",
    "last_t = 0\n",
    "tempgraph =  mplfig_to_npimage(fig)\n",
    "def animate(t):\n",
    "    global last_t\n",
    "    global tempgraph\n",
    "\n",
    "    temp_t = np.round(t * 2)/2.\n",
    "    if t > 0 and temp_t !=last_t:\n",
    "        last_t = temp_t\n",
    "        for coll in ax.collections:\n",
    "            ax.collections.remove(coll)\n",
    "        y2, sr2 = librosa.load('../sample/sample.ogg', mono=False, duration=t)\n",
    "        waveplot(y2, sr=sr2, color='b', alpha=.8)\n",
    "        waveplot(y, sr=sr, color='b', alpha=.25)\n",
    "        tempgraph = mplfig_to_npimage(fig)\n",
    "    return tempgraph\n",
    "\n",
    "animate1 = VideoClip(animate, duration=audio.duration)\n",
    "animate1.write_videofile('../sample/result.mp4', fps=24)\n"
   ]
  },
  {
   "cell_type": "code",
   "execution_count": null,
   "metadata": {},
   "outputs": [],
   "source": [
    "plt.axis('off')\n",
    "waveplot(y[sr*5:sr*6], sr=sr)\n",
    "plt.show()\n",
    "animate1 = VideoClip(lambda t: mplfig_to_npimage(fig), duration=2)\n",
    "animate1.write_videofile('../sample/result.mp4', fps=24)"
   ]
  }
 ],
 "metadata": {
  "kernelspec": {
   "display_name": "Python 3.7.4 64-bit",
   "language": "python",
   "name": "python37464bit69551872507241dcbd65f63d937c6792"
  },
  "language_info": {
   "codemirror_mode": {
    "name": "ipython",
    "version": 3
   },
   "file_extension": ".py",
   "mimetype": "text/x-python",
   "name": "python",
   "nbconvert_exporter": "python",
   "pygments_lexer": "ipython3",
   "version": "3.7.4-final"
  }
 },
 "nbformat": 4,
 "nbformat_minor": 2
}