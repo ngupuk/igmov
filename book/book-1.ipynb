{
 "cells": [
  {
   "cell_type": "markdown",
   "metadata": {},
   "source": [
    "# MoviePy Testing\n",
    "\n",
    "Learn how to use `moviepy`"
   ]
  },
  {
   "cell_type": "code",
   "execution_count": 75,
   "metadata": {},
   "outputs": [],
   "source": [
    "from moviepy.editor import *\n",
    "\n",
    "audio = AudioFileClip('../sample/sample.ogg')\n",
    "thumb = ImageClip('../sample/thumb.jpg')\n",
    "video = ColorClip((400, 400), (0, 0, 0), duration=audio.duration)\n",
    "\n",
    "resultPath = \"../sample/result.mp4\""
   ]
  },
  {
   "cell_type": "markdown",
   "metadata": {},
   "source": [
    "## Join audio and thumbnails image\n",
    "\n",
    "- FPS = 24\n",
    "- size : `(400px, 400px)`"
   ]
  },
  {
   "cell_type": "code",
   "execution_count": 74,
   "metadata": {},
   "outputs": [
    {
     "output_type": "stream",
     "name": "stderr",
     "text": "\n\n\u001b[A\u001b[A\nt:   0%|          | 1/626 [19:37<204:25:31, 1177.49s/it, now=None]\n\nt:   0%|          | 1/626 [17:44<184:48:15, 1064.47s/it, now=None]\u001b[A\u001b[A\nt:   0%|          | 1/626 [18:04<188:13:11, 1084.15s/it, now=None]\u001b[A\n\n\u001b[A\u001b[A\nt:   0%|          | 1/626 [19:37<204:25:45, 1177.51s/it, now=None]\n\nt:   0%|          | 1/626 [17:44<184:48:28, 1064.49s/it, now=None]\u001b[A\u001b[A\nt:   0%|          | 1/626 [18:04<188:13:27, 1084.17s/it, now=None]\u001b[A\n\n\nchunk:   0%|          | 0/575 [00:00<?, ?it/s, now=None]\u001b[A\u001b[A\u001b[AMoviepy - Building video ../sample/result.mp4.\nMoviePy - Writing audio in resultTEMP_MPY_wvf_snd.mp3\n\n\n\nchunk:   0%|          | 2/575 [00:00<01:36,  5.93it/s, now=None]\u001b[A\u001b[A\u001b[A\n\n\nchunk:   6%|▌         | 32/575 [00:00<01:04,  8.41it/s, now=None]\u001b[A\u001b[A\u001b[A\n\n\nchunk:  13%|█▎        | 76/575 [00:00<00:41, 11.91it/s, now=None]\u001b[A\u001b[A\u001b[A\n\n\nchunk:  21%|██        | 122/575 [00:00<00:26, 16.82it/s, now=None]\u001b[A\u001b[A\u001b[A\n\n\nchunk:  28%|██▊       | 161/575 [00:00<00:17, 23.59it/s, now=None]\u001b[A\u001b[A\u001b[A\n\n\nchunk:  36%|███▋      | 209/575 [00:00<00:11, 32.99it/s, now=None]\u001b[A\u001b[A\u001b[A\n\n\nchunk:  44%|████▍     | 255/575 [00:00<00:07, 45.65it/s, now=None]\u001b[A\u001b[A\u001b[A\n\n\nchunk:  53%|█████▎    | 306/575 [00:01<00:04, 62.71it/s, now=None]\u001b[A\u001b[A\u001b[A\n\n\nchunk:  62%|██████▏   | 357/575 [00:01<00:02, 84.89it/s, now=None]\u001b[A\u001b[A\u001b[A\n\n\nchunk:  70%|██████▉   | 401/575 [00:01<00:01, 111.92it/s, now=None]\u001b[A\u001b[A\u001b[A\n\n\nchunk:  77%|███████▋  | 445/575 [00:01<00:00, 143.88it/s, now=None]\u001b[A\u001b[A\u001b[A\n\n\nchunk:  86%|████████▌ | 494/575 [00:01<00:00, 182.37it/s, now=None]\u001b[A\u001b[A\u001b[A\n\n\nchunk:  95%|█████████▌| 547/575 [00:01<00:00, 226.75it/s, now=None]\u001b[A\u001b[A\u001b[A\n\n\n\u001b[A\u001b[A\u001b[A\n\n\u001b[A\u001b[A\nt:   0%|          | 1/626 [19:39<204:43:46, 1179.24s/it, now=None]\n\nt:   0%|          | 1/626 [17:46<185:06:32, 1066.23s/it, now=None]\u001b[A\u001b[A\nt:   0%|          | 1/626 [18:05<188:31:32, 1085.91s/it, now=None]\u001b[A\n\n\u001b[A\u001b[A\nt:   0%|          | 1/626 [19:39<204:44:13, 1179.29s/it, now=None]\n\nt:   0%|          | 1/626 [17:46<185:06:58, 1066.27s/it, now=None]\u001b[A\u001b[A\nt:   0%|          | 1/626 [18:05<188:31:56, 1085.95s/it, now=None]\u001b[A\n\n\nt:   0%|          | 0/626 [00:00<?, ?it/s, now=None]\u001b[A\u001b[A\u001b[AMoviePy - Done.\nMoviepy - Writing video ../sample/result.mp4\n\n\n\n\nt:   0%|          | 2/626 [00:00<00:46, 13.51it/s, now=None]\u001b[A\u001b[A\u001b[A\n\n\nt:   3%|▎         | 19/626 [00:00<00:32, 18.66it/s, now=None]\u001b[A\u001b[A\u001b[A\n\n\nt:   6%|▌         | 36/626 [00:00<00:23, 25.40it/s, now=None]\u001b[A\u001b[A\u001b[A\n\n\nt:   8%|▊         | 48/626 [00:00<00:17, 33.05it/s, now=None]\u001b[A\u001b[A\u001b[A\n\n\nt:   9%|▉         | 58/626 [00:00<00:14, 39.12it/s, now=None]\u001b[A\u001b[A\u001b[A\n\n\nt:  11%|█         | 67/626 [00:00<00:13, 42.69it/s, now=None]\u001b[A\u001b[A\u001b[A\n\n\nt:  13%|█▎        | 82/626 [00:00<00:10, 53.94it/s, now=None]\u001b[A\u001b[A\u001b[A\n\n\nt:  15%|█▍        | 92/626 [00:00<00:08, 62.35it/s, now=None]\u001b[A\u001b[A\u001b[A\n\n\nt:  17%|█▋        | 107/626 [00:01<00:06, 75.27it/s, now=None]\u001b[A\u001b[A\u001b[A\n\n\nt:  20%|█▉        | 124/626 [00:01<00:05, 90.09it/s, now=None]\u001b[A\u001b[A\u001b[A\n\n\nt:  22%|██▏       | 140/626 [00:01<00:04, 103.08it/s, now=None]\u001b[A\u001b[A\u001b[A\n\n\nt:  25%|██▌       | 157/626 [00:01<00:04, 115.92it/s, now=None]\u001b[A\u001b[A\u001b[A\n\n\nt:  28%|██▊       | 174/626 [00:01<00:03, 127.01it/s, now=None]\u001b[A\u001b[A\u001b[A\n\n\nt:  30%|███       | 190/626 [00:01<00:03, 135.38it/s, now=None]\u001b[A\u001b[A\u001b[A\n\n\nt:  33%|███▎      | 206/626 [00:01<00:03, 138.98it/s, now=None]\u001b[A\u001b[A\u001b[A\n\n\nt:  35%|███▌      | 222/626 [00:01<00:02, 141.98it/s, now=None]\u001b[A\u001b[A\u001b[A\n\n\nt:  38%|███▊      | 238/626 [00:01<00:02, 139.64it/s, now=None]\u001b[A\u001b[A\u001b[A\n\n\nt:  40%|████      | 253/626 [00:02<00:02, 139.41it/s, now=None]\u001b[A\u001b[A\u001b[A\n\n\nt:  43%|████▎     | 268/626 [00:02<00:02, 138.87it/s, now=None]\u001b[A\u001b[A\u001b[A\n\n\nt:  45%|████▌     | 283/626 [00:02<00:02, 140.04it/s, now=None]\u001b[A\u001b[A\u001b[A\n\n\nt:  48%|████▊     | 298/626 [00:02<00:02, 142.89it/s, now=None]\u001b[A\u001b[A\u001b[A\n\n\nt:  50%|█████     | 315/626 [00:02<00:02, 148.88it/s, now=None]\u001b[A\u001b[A\u001b[A\n\n\nt:  53%|█████▎    | 331/626 [00:02<00:01, 151.62it/s, now=None]\u001b[A\u001b[A\u001b[A\n\n\nt:  55%|█████▌    | 347/626 [00:02<00:01, 152.71it/s, now=None]\u001b[A\u001b[A\u001b[A\n\n\nt:  58%|█████▊    | 363/626 [00:02<00:01, 147.96it/s, now=None]\u001b[A\u001b[A\u001b[A\n\n\nt:  60%|██████    | 378/626 [00:02<00:01, 139.84it/s, now=None]\u001b[A\u001b[A\u001b[A\n\n\nt:  63%|██████▎   | 393/626 [00:03<00:01, 139.95it/s, now=None]\u001b[A\u001b[A\u001b[A\n\n\nt:  65%|██████▌   | 408/626 [00:03<00:01, 135.46it/s, now=None]\u001b[A\u001b[A\u001b[A\n\n\nt:  68%|██████▊   | 424/626 [00:03<00:01, 139.76it/s, now=None]\u001b[A\u001b[A\u001b[A\n\n\nt:  70%|███████   | 440/626 [00:03<00:01, 142.94it/s, now=None]\u001b[A\u001b[A\u001b[A\n\n\nt:  73%|███████▎  | 456/626 [00:03<00:01, 146.05it/s, now=None]\u001b[A\u001b[A\u001b[A\n\n\nt:  75%|███████▌  | 472/626 [00:03<00:01, 149.55it/s, now=None]\u001b[A\u001b[A\u001b[A\n\n\nt:  78%|███████▊  | 488/626 [00:03<00:00, 148.30it/s, now=None]\u001b[A\u001b[A\u001b[A\n\n\nt:  80%|████████  | 503/626 [00:03<00:00, 136.61it/s, now=None]\u001b[A\u001b[A\u001b[A\n\n\nt:  83%|████████▎ | 517/626 [00:03<00:00, 119.62it/s, now=None]\u001b[A\u001b[A\u001b[A\n\n\nt:  85%|████████▍ | 532/626 [00:04<00:00, 127.03it/s, now=None]\u001b[A\u001b[A\u001b[A\n\n\nt:  88%|████████▊ | 549/626 [00:04<00:00, 136.14it/s, now=None]\u001b[A\u001b[A\u001b[A\n\n\nt:  91%|█████████ | 567/626 [00:04<00:00, 145.80it/s, now=None]\u001b[A\u001b[A\u001b[A\n\n\nt:  93%|█████████▎| 585/626 [00:04<00:00, 152.26it/s, now=None]\u001b[A\u001b[A\u001b[A\n\n\nt:  96%|█████████▌| 601/626 [00:04<00:00, 150.58it/s, now=None]\u001b[A\u001b[A\u001b[A\n\n\nt:  99%|█████████▊| 617/626 [00:04<00:00, 108.64it/s, now=None]\u001b[A\u001b[A\u001b[A\n\n\n\u001b[A\u001b[A\u001b[A\n\n\u001b[A\u001b[A\nt:   0%|          | 1/626 [19:44<205:35:42, 1184.23s/it, now=None]\n\nt:   0%|          | 1/626 [17:51<185:58:30, 1071.22s/it, now=None]\u001b[A\u001b[A\nt:   0%|          | 1/626 [18:10<189:23:29, 1090.89s/it, now=None]\u001b[A\n\n\u001b[A\u001b[A\nt:   0%|          | 1/626 [19:44<205:36:15, 1184.28s/it, now=None]\n\nt:   0%|          | 1/626 [17:51<185:59:00, 1071.26s/it, now=None]\u001b[A\u001b[A\nt:   0%|          | 1/626 [18:10<189:23:56, 1090.94s/it, now=None]\u001b[AMoviepy - Done !\nMoviepy - video ready ../sample/result.mp4\n"
    }
   ],
   "source": [
    "video = (video\n",
    "            .set_fps(24)\n",
    "            .set_duration(audio.duration)\n",
    "            .set_audio(audio)\n",
    "            )\n",
    "thumb = (thumb\n",
    "            .set_fps(24)\n",
    "            .set_duration(audio.duration)\n",
    "            .resize((video.w, video.h))\n",
    "            )\n",
    "videos = CompositeVideoClip([video, thumb])\n",
    "videos.to_videofile(resultPath)"
   ]
  }
 ],
 "metadata": {
  "language_info": {
   "codemirror_mode": {
    "name": "ipython",
    "version": 3
   },
   "file_extension": ".py",
   "mimetype": "text/x-python",
   "name": "python",
   "nbconvert_exporter": "python",
   "pygments_lexer": "ipython3",
   "version": "3.7.4-final"
  },
  "orig_nbformat": 2,
  "kernelspec": {
   "name": "python37464bit69551872507241dcbd65f63d937c6792",
   "display_name": "Python 3.7.4 64-bit"
  }
 },
 "nbformat": 4,
 "nbformat_minor": 2
}