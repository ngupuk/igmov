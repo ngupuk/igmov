{
 "cells": [
  {
   "cell_type": "markdown",
   "metadata": {},
   "source": [
    "# MoviePy Testing\n",
    "\n",
    "Learn how to use `moviepy`"
   ]
  },
  {
   "cell_type": "code",
   "execution_count": null,
   "metadata": {},
   "outputs": [],
   "source": [
    "from moviepy.editor import *\n",
    "\n",
    "audio = AudioFileClip('../sample/sample.ogg')\n",
    "thumb = ImageClip('../sample/thumb.jpg')\n",
    "video = ColorClip((400, 400), (0, 0, 0), duration=audio.duration)\n",
    "\n",
    "resultPath = \"../sample/result.mp4\""
   ]
  },
  {
   "cell_type": "markdown",
   "metadata": {},
   "source": [
    "## Join audio and thumbnails image\n",
    "\n",
    "- FPS = 24\n",
    "- size : `(400px, 400px)`"
   ]
  },
  {
   "cell_type": "code",
   "execution_count": null,
   "metadata": {},
   "outputs": [],
   "source": [
    "video = (video\n",
    "            .set_fps(24)\n",
    "            .set_duration(audio.duration)\n",
    "            .set_audio(audio)\n",
    "            )\n",
    "thumb = (thumb\n",
    "            .set_fps(24)\n",
    "            .set_duration(audio.duration)\n",
    "            .resize((video.w, video.h))\n",
    "            )\n",
    "videos = CompositeVideoClip([video, thumb])\n",
    "videos.to_videofile(resultPath)"
   ]
  },
  {
   "cell_type": "code",
   "execution_count": null,
   "metadata": {},
   "outputs": [],
   "source": [
    "# Generate random bg from book-2.ipynb\n",
    "bgPath = '../sample/result.jpg'\n",
    "bg = (ImageClip(bgPath)\n",
    "        .subclip((400,400))\n",
    "        .resize((400, 400))\n",
    "        .set_fps(24)\n",
    "        .set_duration(audio.duration)\n",
    "        )\n",
    "logo = (thumb\n",
    "        .resize((180, 180))\n",
    "        .margin(20, opacity=0)\n",
    "        )\n",
    "bg.to_videofile(resultPath)\n",
    "bg.ipython_display()\n",
    "\n",
    "videos = CompositeVideoClip([video, bg, logo])\n",
    "videos.to_videofile(resultPath)"
   ]
  }
 ],
 "metadata": {
  "language_info": {
   "codemirror_mode": {
    "name": "ipython",
    "version": 3
   },
   "file_extension": ".py",
   "mimetype": "text/x-python",
   "name": "python",
   "nbconvert_exporter": "python",
   "pygments_lexer": "ipython3",
   "version": "3.7.4-final"
  },
  "orig_nbformat": 2,
  "kernelspec": {
   "name": "python37464bit69551872507241dcbd65f63d937c6792",
   "display_name": "Python 3.7.4 64-bit"
  }
 },
 "nbformat": 4,
 "nbformat_minor": 2
}