{
 "cells": [
  {
   "cell_type": "markdown",
   "metadata": {},
   "source": [
    "# Get Random background image\n",
    "\n",
    "Image source Unsplash API"
   ]
  },
  {
   "cell_type": "code",
   "execution_count": null,
   "metadata": {},
   "outputs": [],
   "source": [
    "import urllib3\n",
    "http = urllib3.PoolManager()\n"
   ]
  },
  {
   "cell_type": "code",
   "execution_count": null,
   "metadata": {},
   "outputs": [],
   "source": [
    "resultPath = \"../sample/result.jpg\"\n",
    "baseUrl = \"https://source.unsplash.com/featured/?\"\n",
    "query = \"nature\"\n",
    "result = http.request('GET', baseUrl + query).data\n",
    "with open(resultPath, 'wb') as photos:\n",
    "    photos.write(result)\n",
    "\n",
    "from IPython.display import Image\n",
    "Image(filename=resultPath)"
   ]
  }
 ],
 "metadata": {
  "language_info": {
   "codemirror_mode": {
    "name": "ipython",
    "version": 3
   },
   "file_extension": ".py",
   "mimetype": "text/x-python",
   "name": "python",
   "nbconvert_exporter": "python",
   "pygments_lexer": "ipython3",
   "version": "3.7.4-final"
  },
  "orig_nbformat": 2,
  "kernelspec": {
   "name": "python37464bit69551872507241dcbd65f63d937c6792",
   "display_name": "Python 3.7.4 64-bit"
  }
 },
 "nbformat": 4,
 "nbformat_minor": 2
}